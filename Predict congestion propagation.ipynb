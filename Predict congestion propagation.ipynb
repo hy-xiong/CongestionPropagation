{
 "cells": [
  {
   "cell_type": "code",
   "execution_count": 1,
   "metadata": {},
   "outputs": [],
   "source": [
    "import os, time, datetime, glob, copy, shutil, math\n",
    "import numpy as np\n",
    "import pandas as pd\n",
    "import pickle as pk\n",
    "from ult import *\n",
    "from matplotlib import pyplot as plt\n",
    "\n",
    "gct = time.time\n",
    "runtime = lambda et, st: str(datetime.timedelta(seconds=round(et-st)))"
   ]
  },
  {
   "cell_type": "markdown",
   "metadata": {},
   "source": [
    "# Read road network"
   ]
  },
  {
   "cell_type": "code",
   "execution_count": 2,
   "metadata": {},
   "outputs": [
    {
     "name": "stdout",
     "output_type": "stream",
     "text": [
      "original # of roads: 99486\n",
      "U-Turn is ignored in network connectivity\n",
      "NO. X-grids: 190, NO. Y-grids: 88\n",
      "# of roads in the largest connected component: 6570\n",
      "# of link roads: 690\n",
      "Runtime 0:00:06\n"
     ]
    }
   ],
   "source": [
    "noUTurn = 1\n",
    "st = gct()\n",
    "# read road network\n",
    "allSelectedRids = np.genfromtxt('/Shared/xunzhou/Shenzhen_new/haoyi/CongProg/selectedRoadsCC%s' %\\\n",
    "                                ('_noUTurn' if noUTurn else ''), dtype=np.int32)\n",
    "\n",
    "gridLen = 500.0 #500 meter grid\n",
    "f_road ='/Shared/xunzhou/Shenzhen_new/haoyi/RoadNetwork/road_projected_utm50.geojson'\n",
    "# select road types for analysis\n",
    "\n",
    "RoadSelection = True\n",
    "typeOfRoads=[\"motorway\",\"motorway_link\",\"primary\",\n",
    "             \"primary_link\", \"trunk\", \"trunk_link\"]\n",
    "\n",
    "roads, topLeftOrigin, xyNGrids, grid_to_road, road_to_grid = RoadNet.readGeojson(f_road, gridLen,\n",
    "                                                                                 selectedRoadTypes=typeOfRoads,\n",
    "                                                                                 selectedRoadIDs=allSelectedRids.tolist(),\n",
    "                                                                                 noUTurn = True)\n",
    "# find largest connected component\n",
    "selectedRids, linkRoads = RoadNet.find_LCC_update_Adj(roads, linkRoadMaxLength = 30)\n",
    "print \"Runtime %s\" % runtime(gct(), st)"
   ]
  },
  {
   "cell_type": "markdown",
   "metadata": {},
   "source": [
    "# Optional: Display link roads and visualize selected roads"
   ]
  },
  {
   "cell_type": "code",
   "execution_count": null,
   "metadata": {},
   "outputs": [],
   "source": [
    "# write out Link level road list:\n",
    "outDict = modAdjPrePath\n",
    "with open('/Shared/xunzhou/Shenzhen_new/haoyi/CongProg/Result/Primary/adjLinkPath', 'w') as wrt:\n",
    "    s = ''\n",
    "    for k in outDict:\n",
    "        s += '%d,%d:%s\\n' % (k[0],k[1],','.join(str(v) for v in outDict[k]))\n",
    "    wrt.write(s)"
   ]
  },
  {
   "cell_type": "code",
   "execution_count": 4,
   "metadata": {
    "collapsed": true
   },
   "outputs": [],
   "source": [
    "Snapshot.visual(selectedRids, [], selectedRids, roads,\n",
    "               figPath='/Shared/xunzhou/Shenzhen_new/haoyi/CongProg/Result/Primary/roads.pdf')"
   ]
  },
  {
   "cell_type": "markdown",
   "metadata": {},
   "source": [
    "# Optional: Compute Free Flow speed for selected roads "
   ]
  },
  {
   "cell_type": "code",
   "execution_count": 3,
   "metadata": {
    "collapsed": true
   },
   "outputs": [],
   "source": [
    "nObsDays = 30\n",
    "noisePercentile = 5\n",
    "nMinVehicles = 100\n",
    "freeFlowFileName = 'obs_free_flow%s_%d_%d_%d' % ('_noUTurn' if noUTurn else '', nMinVehicles, noisePercentile, nObsDays)\n",
    "ProcDataDir = '/Shared/xunzhou/Shenzhen_new/haoyi/CongProg/FinalSubmissionResult'"
   ]
  },
  {
   "cell_type": "code",
   "execution_count": 4,
   "metadata": {},
   "outputs": [
    {
     "name": "stdout",
     "output_type": "stream",
     "text": [
      "runtime of reading all GPS data and select corresponding ones for selected roads and time period: 1:09:32\n"
     ]
    },
    {
     "name": "stderr",
     "output_type": "stream",
     "text": [
      "/Users/hxiong/anaconda2/lib/python2.7/site-packages/ipykernel/__main__.py:9: SettingWithCopyWarning: \n",
      "A value is trying to be set on a copy of a slice from a DataFrame.\n",
      "Try using .loc[row_indexer,col_indexer] = value instead\n",
      "\n",
      "See the caveats in the documentation: http://pandas.pydata.org/pandas-docs/stable/indexing.html#indexing-view-versus-copy\n"
     ]
    }
   ],
   "source": [
    "# read all GPS data\n",
    "st = gct()\n",
    "road_GPS_spd = pd.read_csv('/Shared/xunzhou/Shenzhen_new/haoyi/CongProg/RoadSpd/free_flow/road_GPS_spd_sort',\n",
    "                           dtype={'device':np.uint32,'spd':np.uint16,'road':np.int32},\n",
    "                           sep=',',\n",
    "                           converters={'time': lambda x: pd.Timestamp(x)},\n",
    "                           error_bad_lines=False)\n",
    "road_GPS_spd_sel = road_GPS_spd[road_GPS_spd['road'].isin(selectedRids)]\n",
    "road_GPS_spd_sel['day'] = road_GPS_spd_sel['time'].apply(lambda x: x.day)\n",
    "if nObsDays < 30:\n",
    "    road_GPS_spd_sel = road_GPS_spd_sel[road_GPS_spd_sel['day'] < nObsDays]\n",
    "print 'runtime of reading all GPS data and select corresponding ones for selected roads and time period: %s' \\\n",
    "% runtime(gct(), st)"
   ]
  },
  {
   "cell_type": "code",
   "execution_count": 8,
   "metadata": {},
   "outputs": [
    {
     "name": "stdout",
     "output_type": "stream",
     "text": [
      "runtime: find road index starting row index 0:00:02\n",
      "runtime: get free flow speed for roads satisfying conditions 0:01:40\n",
      "# of roads having free flow: 6453 (98.219%)\n"
     ]
    }
   ],
   "source": [
    "# find free flow\n",
    "st = gct()\n",
    "seg_st_index = road_GPS_spd_sel['road'].diff()\n",
    "seg_st_index = seg_st_index[seg_st_index != 0].index.values\n",
    "if seg_st_index[-1] < road_GPS_spd_sel.index.values[-1]:\n",
    "    seg_st_index = np.append(seg_st_index, road_GPS_spd_sel.index.values[-1]+1)\n",
    "print 'runtime: find road index starting row index %s' % runtime(gct(), st)\n",
    "st = gct()\n",
    "road_free_flow_speed = {}\n",
    "for i in xrange(seg_st_index.shape[0] - 1):\n",
    "    road_spd_pts = road_GPS_spd_sel.loc[seg_st_index[i] : seg_st_index[i+1] - 1]\n",
    "    road_spd_pts = road_spd_pts[road_spd_pts['spd'] > 0.]\n",
    "    nVeh = road_spd_pts['device'].unique().shape[0]\n",
    "    if nVeh >= nMinVehicles:\n",
    "        spds = road_spd_pts['spd'].values\n",
    "        free_flow_spd = np.max(spds[spds < np.percentile(spds, 100 - noisePercentile)])\n",
    "        roadID = road_GPS_spd_sel['road'].loc[seg_st_index[i]]\n",
    "        road_free_flow_speed[roadID] = free_flow_spd\n",
    "print 'runtime: get free flow speed for roads satisfying conditions %s' % runtime(gct(), st)\n",
    "print '# of roads having free flow: %d (%.3f%%)' % (len(road_free_flow_speed), \n",
    "                                                    len(road_free_flow_speed) * 100.0/selectedRids.shape[0])\n",
    "road_free_flow_speed = pd.Series(road_free_flow_speed)\n",
    "df_free_flow_spd = road_free_flow_speed.to_frame()\n",
    "df_free_flow_spd.columns = ['ff_spd']\n",
    "df_free_flow_spd.index.name = 'roadID'\n",
    "df_free_flow_spd.to_csv(os.path.join(ProcDataDir, freeFlowFileName))"
   ]
  },
  {
   "cell_type": "markdown",
   "metadata": {},
   "source": [
    "# Optional (run one time): extract road speed for selected roads in prediction"
   ]
  },
  {
   "cell_type": "code",
   "execution_count": 23,
   "metadata": {
    "collapsed": true
   },
   "outputs": [],
   "source": [
    "ProcDataDir = '/Shared/xunzhou/Shenzhen_new/haoyi/CongProg/FinalSubmissionResult'\n",
    "roadSpeedDir = '/Shared/xunzhou/Shenzhen_new/haoyi/CongProg/RoadSpd/5min_allR_allT'\n",
    "dayRange = range(1, 31)\n",
    "for tInterval in np.arange(5, 51, 5):\n",
    "    for testDay in dayRange:\n",
    "        f = os.path.join(roadSpeedDir, 'roadSpd_tInterval_5_min_2014_11_%d' % testDay)\n",
    "        rdSpdDf = pd.read_csv(f, dtype={'timeSlot':np.uint16, 'road':np.int32, 'avgGPS':np.float64, \n",
    "                                        'nGPSPts':np.uint32, 'avgVehicles':np.float64, 'nVehicles':np.uint32})\n",
    "        rdSpdDf = rdSpdDf[rdSpdDf['road'].isin(selectedRids)]\n",
    "        if tInterval > 5:\n",
    "            rdSpdDf['newTSlot'] = rdSpdDf['timeSlot'].apply(lambda x:int(x*5/tInterval))\n",
    "            rdSpdDf['cumuVehSpd'] = rdSpdDf['avgVehicles'] * rdSpdDf['nVehicles']\n",
    "            nTSlots = rdSpdDf['newTSlot'].max()+1\n",
    "            gp = rdSpdDf.groupby(['road', 'newTSlot'])\n",
    "            newRdSpdDf = gp['cumuVehSpd', 'nVehicles'].sum()\n",
    "            newRdSpdDf['avgVehicles'] = newRdSpdDf['cumuVehSpd'] / newRdSpdDf['nVehicles'] \n",
    "        else:\n",
    "            nTSlots = rdSpdDf['timeSlot'].max()+1\n",
    "            newRdSpdDf = rdSpdDf\n",
    "            newRdSpdDf = newRdSpdDf.set_index(['road', 'timeSlot'])\n",
    "        outDir = os.path.join(ProcDataDir ,'selRoads_roadSpd_%d' % tInterval)\n",
    "        if not os.path.exists(outDir):\n",
    "            os.mkdir(outDir)\n",
    "        newRdSpdDf = newRdSpdDf['avgVehicles'].to_frame()\n",
    "        newRdSpdDf.to_csv(os.path.join(outDir, '_'.join(f.split('_')[-3:])), index=True)"
   ]
  },
  {
   "cell_type": "markdown",
   "metadata": {},
   "source": [
    "# Build congestion propagation index"
   ]
  },
  {
   "cell_type": "code",
   "execution_count": 3,
   "metadata": {},
   "outputs": [
    {
     "name": "stdout",
     "output_type": "stream",
     "text": [
      "Selected road ID is congestion state matrix road ID index:  True\n",
      "Free flow: 97.79%\n"
     ]
    }
   ],
   "source": [
    "# sanity check and evaluate preprocessed data\n",
    "ProcDataDir = '/Shared/xunzhou/Shenzhen_new/haoyi/CongProg/FinalSubmissionResult'\n",
    "nFreeFlowObsDays = 23\n",
    "congestionStateRid = np.genfromtxt(os.path.join(ProcDataDir, 'congestionMatrixRoadIDByIndex'), dtype=np.uint32)\n",
    "print 'Selected road ID is congestion state matrix road ID index: ', np.all(congestionStateRid==selectedRids)\n",
    "obsFreeFlow = pd.read_csv(os.path.join(ProcDataDir, 'obs_free_flow_noUTurn_100_5_%d') % nFreeFlowObsDays)\n",
    "print 'Free flow: %.2f%%' % (obsFreeFlow.index.shape[0]* 100.0 / selectedRids.shape[0])\n",
    "\n",
    "selectedRids_index = np.array([np.argwhere(congestionStateRid==rid).flatten()[0] for rid in selectedRids])"
   ]
  },
  {
   "cell_type": "code",
   "execution_count": 4,
   "metadata": {
    "scrolled": true
   },
   "outputs": [
    {
     "name": "stdout",
     "output_type": "stream",
     "text": [
      "[0, 48, 108, 168, 216] ['weekday_0-47', 'weekday_48-107', 'weekday_108-167', 'weekday_168-215', 'Saturday', 'Sunday']\n"
     ]
    }
   ],
   "source": [
    "# parameters for building\n",
    "tInt = 5\n",
    "nTrainDays = 23\n",
    "tb_wd = [6, 10, 15, 20, 24]\n",
    "def getTimeSlot(tDelta, tInt):\n",
    "    return int(math.ceil(tDelta/pd.Timedelta(tInt, unit='m')))\n",
    "tb_wd = [pd.Timedelta(v, 'h') for v in tb_wd]\n",
    "tb_wd = [getTimeSlot(tb_wd[i] - tb_wd[0], tInt) for i in xrange(len(tb_wd))]\n",
    "indices_congProg = ['weekday_%d-%d' % (tb_wd[i], tb_wd[i+1]-1) for i in xrange(len(tb_wd)-1)]\n",
    "indices_congProg.extend(['Saturday', 'Sunday'])\n",
    "print tb_wd, indices_congProg"
   ]
  },
  {
   "cell_type": "code",
   "execution_count": null,
   "metadata": {
    "collapsed": true
   },
   "outputs": [],
   "source": [
    "# # determine all congestion state of all road in all time slot in the entire dataset\n",
    "# st = gct()\n",
    "# d = os.path.join(ProcDataDir, 'selRoads_roadSpd_%d' % (tInt))\n",
    "# nTSlots = tb_wd[-1]-1\n",
    "# congStates = []\n",
    "# roadFreeFlowSpd = obsFreeFlowTrain.set_index('roadID')\n",
    "# for f in sorted(glob.glob('%s/2014_11_*' % d), key=lambda x: int(x.split('_')[-1]))[:nTrainDays]:\n",
    "#     roadSpdT = pd.read_csv(f)\n",
    "#     roadSpdT = roadSpdT.set_index(['road', 'timeSlot'])\n",
    "#     CongStat = []\n",
    "#     for rid in selectedRids:\n",
    "#         CongStatRow = []\n",
    "#         if rid not in roadFreeFlowSpd.index:\n",
    "#             CongStatRow = [0 for t in xrange(nTSlots)]\n",
    "#         else:\n",
    "#             for t in xrange(nTSlots):\n",
    "#                 if (rid, t) not in roadSpdT.index:\n",
    "#                     CongStatRow.append(0)\n",
    "#                 else:\n",
    "#                     ff_spd = roadFreeFlowSpd.loc[rid]['ff_spd']\n",
    "#                     if 1 - roadSpdT.loc[(rid,t)]['avgVehicles'] / ff_spd < 0.5:\n",
    "#                         CongStatRow.append(0)\n",
    "#                     else:\n",
    "#                         CongStatRow.append(1)\n",
    "#         CongStat.append(CongStatRow)\n",
    "#     CongStat = np.array(CongStat, dtype=np.uint8) # roadID X tSLotID\n",
    "#     congStates.append(CongStat) # allSelectedRids X tSlot\n",
    "#     print os.path.basename(f), ' is done'\n",
    "# print 'runtime: get all congestion states for %d days %s' % (len(congStates), runtime(gct(), st))"
   ]
  },
  {
   "cell_type": "code",
   "execution_count": 5,
   "metadata": {
    "scrolled": true
   },
   "outputs": [
    {
     "name": "stdout",
     "output_type": "stream",
     "text": [
      "runtime: read all congestion states for 23 days 0:00:30\n"
     ]
    }
   ],
   "source": [
    "# read all congestion state of all road in all time slot in the entire dataset\n",
    "st = gct()\n",
    "d = os.path.join(ProcDataDir, 'selRoads_congState_%d_%d' % (nFreeFlowObsDays, tInt))\n",
    "congStates = []\n",
    "for f in sorted(glob.glob('%s/%s2014_11_*' % (d, 'noUTurn' if noUTurn else '')), \n",
    "                key=lambda x: int(x.split('_')[-1]))[:nTrainDays]:\n",
    "    congState = np.genfromtxt(f, delimiter=',')\n",
    "    congStates.append(congState[selectedRids_index,:]) # allSelectedRids X tSlot\n",
    "print 'runtime: read all congestion states for %d days %s' % (len(congStates), runtime(gct(), st))"
   ]
  },
  {
   "cell_type": "code",
   "execution_count": 6,
   "metadata": {},
   "outputs": [],
   "source": [
    "# naive index updating\n",
    "def updateCongNaive(congStatM, congProgDict, indexRids, roads, linkRoads):\n",
    "    for ri in xrange(indexRids.shape[0]):\n",
    "        rid = indexRids[ri]\n",
    "        if rid not in linkRoads:\n",
    "            for t in xrange(congStatM[ri].shape[0]-1):\n",
    "                if congStatM[ri,t] == 1:\n",
    "                    for pRid in roads[rid].preRids:\n",
    "                        pRid_index = np.argwhere(indexRids == pRid).flatten()[0]\n",
    "                        if congStatM[pRid_index, t] == 0:\n",
    "                            congProgDict[rid][pRid][1] += 1\n",
    "                            if congStatM[pRid_index, t+1] == 1:\n",
    "                                congProgDict[rid][pRid][0] += 1\n",
    "\n",
    "def updateCongSmart(congStatM, congProgDict, indexRids, roads, linkRoads):\n",
    "    jumpIndex = np.zeros(congStatM.shape, dtype=np.uint32)\n",
    "    jumpIndex[:,:] = -1\n",
    "    for ri in xrange(congStatM.shape[0]):\n",
    "        mt = 0\n",
    "        for t in xrange(congStatM.shape[1]):\n",
    "            if congStatM[ri, t] == 1:\n",
    "                for pt in xrange(mt, t+1):\n",
    "                    jumpIndex[ri, pt] = t\n",
    "                mt = t+1\n",
    "    for ri in xrange(indexRids.shape[0]):\n",
    "        rid = indexRids[ri]\n",
    "        if rid not in linkRoads:\n",
    "            for pRid in roads[rid].preRids:\n",
    "                tInd = jumpIndex[ri,0]\n",
    "                pRid_index = np.argwhere(indexRids == pRid).flatten()[0]\n",
    "                while(tInd < congStatM.shape[1] - 1):\n",
    "                    if tInd >= 0:\n",
    "                        if congStatM[pRid_index,tInd]==0:\n",
    "                            congProgDict[rid][pRid][1] += 1\n",
    "                            if congStatM[pRid_index,tInd+1]==1:\n",
    "                                congProgDict[rid][pRid][0] += 1\n",
    "                        tInd = jumpIndex[ri,tInd+1]\n",
    "                    else:\n",
    "                        break"
   ]
  },
  {
   "cell_type": "code",
   "execution_count": 7,
   "metadata": {
    "scrolled": true
   },
   "outputs": [
    {
     "name": "stdout",
     "output_type": "stream",
     "text": [
      "runtime: process 2014-11-01 days 0:00:05\n",
      "runtime: process 2014-11-02 days 0:00:10\n",
      "runtime: process 2014-11-03 days 0:00:15\n",
      "runtime: process 2014-11-04 days 0:00:19\n",
      "runtime: process 2014-11-05 days 0:00:24\n",
      "runtime: process 2014-11-06 days 0:00:29\n",
      "runtime: process 2014-11-07 days 0:00:34\n",
      "runtime: process 2014-11-08 days 0:00:39\n",
      "runtime: process 2014-11-09 days 0:00:43\n",
      "runtime: process 2014-11-10 days 0:00:47\n",
      "runtime: process 2014-11-11 days 0:00:52\n",
      "runtime: process 2014-11-12 days 0:00:57\n",
      "runtime: process 2014-11-13 days 0:01:03\n",
      "runtime: process 2014-11-14 days 0:01:09\n",
      "runtime: process 2014-11-15 days 0:01:14\n",
      "runtime: process 2014-11-16 days 0:01:19\n",
      "runtime: process 2014-11-17 days 0:01:23\n",
      "runtime: process 2014-11-18 days 0:01:27\n",
      "runtime: process 2014-11-19 days 0:01:31\n",
      "runtime: process 2014-11-20 days 0:01:37\n",
      "runtime: process 2014-11-21 days 0:01:42\n",
      "runtime: process 2014-11-22 days 0:01:47\n",
      "runtime: process 2014-11-23 days 0:01:50\n",
      "runtime: build index 0:01:51\n"
     ]
    }
   ],
   "source": [
    "# build index for each time period of weekday and each day of weekends given road connectivity\n",
    "updateCong = updateCongSmart\n",
    "                        \n",
    "st = gct()\n",
    "# weekday time period boundary\n",
    "index_data_congProg = []\n",
    "cDay = datetime.date(2014, 11, 1)\n",
    "# set up index structure\n",
    "for i in xrange(len(indices_congProg)):\n",
    "    CongProg = {}\n",
    "    for rid in selectedRids:\n",
    "        if rid not in linkRoads:\n",
    "            CongProg[rid] = {preRid:[0, 0] for preRid in roads[rid].preRids} # nProg, nPossibleProg\n",
    "    index_data_congProg.append(CongProg)\n",
    "# compute values for the index\n",
    "for congState in congStates:\n",
    "    if cDay.weekday() >= 5: # Saturday & Sunday\n",
    "        CongProg = index_data_congProg[cDay.weekday()-1]\n",
    "        congStatM = congState\n",
    "        updateCong(congStatM, CongProg, selectedRids, roads, linkRoads)\n",
    "    else: # weekday\n",
    "        for j in xrange(len(tb_wd)-1):\n",
    "            if j < len(tb_wd)-2:\n",
    "                #add 1 more time slot for counting propagation\n",
    "                congStatM = congState[:, tb_wd[j] : tb_wd[j+1] + 1]\n",
    "            else:\n",
    "                #end time of the day, cannot add more time slot to the end\n",
    "                congStatM = congState[:, tb_wd[j] : tb_wd[j+1]]\n",
    "            CongProg = index_data_congProg[j]\n",
    "            updateCong(congStatM, CongProg, selectedRids, roads, linkRoads)\n",
    "    print 'runtime: process %s days %s' % (str(cDay), runtime(gct(), st))\n",
    "    cDay += datetime.timedelta(days=1)\n",
    "for i in xrange(len(indices_congProg)):\n",
    "    CongProg = index_data_congProg[i]\n",
    "    for rid in CongProg:\n",
    "        for preRid in CongProg[rid]:\n",
    "            if CongProg[rid][preRid][1] == 0:\n",
    "                CongProg[rid][preRid] = 0.\n",
    "            else:\n",
    "                CongProg[rid][preRid] = CongProg[rid][preRid][0] * 1.0 / CongProg[rid][preRid][1]\n",
    "print 'runtime: build index %s' % runtime(gct(), st)"
   ]
  },
  {
   "cell_type": "markdown",
   "metadata": {},
   "source": [
    "# compute traffic bottleneck score"
   ]
  },
  {
   "cell_type": "code",
   "execution_count": 8,
   "metadata": {},
   "outputs": [],
   "source": [
    "def getCongIndexPos(day, tSlot, tb_wd):\n",
    "    w = datetime.date(2014, 11, day).weekday()\n",
    "    if w >= 5:\n",
    "        return w - 1\n",
    "    else:\n",
    "        for tb_i in xrange(len(tb_wd[1:])):\n",
    "            if tSlot < tb_wd[tb_i+1]:\n",
    "                return tb_i\n",
    "\n",
    "def checkProg(cRid, nRid, ct, CongStateM, rid_index):\n",
    "    cRid_index = rid_index[cRid]\n",
    "    nRid_index = rid_index[nRid]\n",
    "    if (CongStateM[cRid_index][ct] == 1) and (CongStateM[nRid_index][ct] == 0) \\\n",
    "    and (CongStateM[nRid_index][ct+1] == 1):\n",
    "        return 1\n",
    "    else:\n",
    "        return 0\n",
    "    \n",
    "def getConnCongSet(congRids, linkRoads, roads):\n",
    "    CCSs = []\n",
    "    for congRid in congRids:\n",
    "        if congRid not in linkRoads:\n",
    "            mergeIndex = set()   \n",
    "            for m in xrange(len(CCSs)):\n",
    "                neighborhood = set(CCSs[m])\n",
    "                for CCS_rid in CCSs[m]:\n",
    "                    neighborhood |= set(roads[CCS_rid].preRids)\n",
    "                if (len(set(roads[congRid].preRids) & CCSs[m]) > 0) or (congRid in neighborhood):\n",
    "                    mergeIndex.add(m)\n",
    "            newCCS = []\n",
    "            mergeCCS = set([congRid])\n",
    "            for m in xrange(len(CCSs)):\n",
    "                if m in mergeIndex:\n",
    "                    mergeCCS |= CCSs[m]\n",
    "                else:\n",
    "                    newCCS.append(CCSs[m])\n",
    "            newCCS.append(mergeCCS)\n",
    "            CCSs = newCCS\n",
    "    return CCSs"
   ]
  },
  {
   "cell_type": "code",
   "execution_count": 9,
   "metadata": {
    "scrolled": true
   },
   "outputs": [
    {
     "name": "stdout",
     "output_type": "stream",
     "text": [
      "runtime: day 24, t20, 0:00:21\n",
      "runtime: day 24, t40, 0:01:10\n",
      "runtime: day 24, t60, 0:01:50\n",
      "runtime: day 24, t80, 0:02:21\n",
      "runtime: day 24, t100, 0:02:52\n",
      "runtime: day 24, t120, 0:03:38\n",
      "runtime: day 24, t140, 0:04:30\n",
      "runtime: day 24, t160, 0:05:45\n",
      "runtime: day 24, t180, 0:06:19\n",
      "runtime: day 24, t200, 0:06:42\n",
      "runtime: day 24 0:06:52\n",
      "runtime: day 25, t20, 0:07:24\n",
      "runtime: day 25, t40, 0:08:25\n",
      "runtime: day 25, t60, 0:09:09\n",
      "runtime: day 25, t80, 0:09:39\n",
      "runtime: day 25, t100, 0:10:08\n",
      "runtime: day 25, t120, 0:10:48\n",
      "runtime: day 25, t140, 0:11:37\n",
      "runtime: day 25, t160, 0:12:43\n",
      "runtime: day 25, t180, 0:13:11\n",
      "runtime: day 25, t200, 0:13:35\n",
      "runtime: day 25 0:13:44\n",
      "runtime: day 26, t20, 0:14:08\n",
      "runtime: day 26, t40, 0:14:58\n",
      "runtime: day 26, t60, 0:15:35\n",
      "runtime: day 26, t80, 0:16:02\n",
      "runtime: day 26, t100, 0:16:31\n",
      "runtime: day 26, t120, 0:17:05\n",
      "runtime: day 26, t140, 0:17:53\n",
      "runtime: day 26, t160, 0:19:01\n",
      "runtime: day 26, t180, 0:19:33\n",
      "runtime: day 26, t200, 0:19:54\n",
      "runtime: day 26 0:20:03\n",
      "runtime: day 27, t20, 0:20:32\n",
      "runtime: day 27, t40, 0:21:37\n",
      "runtime: day 27, t60, 0:22:19\n",
      "runtime: day 27, t80, 0:22:48\n",
      "runtime: day 27, t100, 0:23:18\n",
      "runtime: day 27, t120, 0:24:08\n",
      "runtime: day 27, t140, 0:25:06\n",
      "runtime: day 27, t160, 0:26:24\n",
      "runtime: day 27, t180, 0:26:58\n",
      "runtime: day 27, t200, 0:27:23\n",
      "runtime: day 27 0:27:33\n",
      "runtime: day 28, t20, 0:28:02\n",
      "runtime: day 28, t40, 0:28:59\n",
      "runtime: day 28, t60, 0:29:48\n",
      "runtime: day 28, t80, 0:30:22\n",
      "runtime: day 28, t100, 0:30:57\n",
      "runtime: day 28, t120, 0:31:47\n",
      "runtime: day 28, t140, 0:32:56\n",
      "runtime: day 28, t160, 0:34:24\n",
      "runtime: day 28, t180, 0:35:04\n",
      "runtime: day 28, t200, 0:35:32\n",
      "runtime: day 28 0:35:40\n",
      "runtime: day 29, t20, 0:36:11\n",
      "runtime: day 29, t40, 0:36:42\n",
      "runtime: day 29, t60, 0:37:27\n",
      "runtime: day 29, t80, 0:38:06\n",
      "runtime: day 29, t100, 0:38:41\n",
      "runtime: day 29, t120, 0:39:30\n",
      "runtime: day 29, t140, 0:40:20\n",
      "runtime: day 29, t160, 0:41:07\n",
      "runtime: day 29, t180, 0:41:43\n",
      "runtime: day 29, t200, 0:42:17\n",
      "runtime: day 29 0:42:33\n",
      "runtime: day 30, t20, 0:42:58\n",
      "runtime: day 30, t40, 0:43:32\n",
      "runtime: day 30, t60, 0:44:17\n",
      "runtime: day 30, t80, 0:44:52\n",
      "runtime: day 30, t100, 0:45:22\n",
      "runtime: day 30, t120, 0:46:02\n",
      "runtime: day 30, t140, 0:46:43\n",
      "runtime: day 30, t160, 0:47:30\n",
      "runtime: day 30, t180, 0:48:22\n",
      "runtime: day 30, t200, 0:48:55\n",
      "runtime: day 30 0:49:04\n"
     ]
    }
   ],
   "source": [
    "# set parameter and read data\n",
    "testDays = range(24, 31)\n",
    "d = os.path.join(ProcDataDir, 'selRoads_congState_%d_%d' % (nFreeFlowObsDays, tInt))\n",
    "\n",
    "st = gct()\n",
    "rid_index = {selectedRids[i]:i for i in xrange(selectedRids.shape[0])}\n",
    "\n",
    "evalFlag = True\n",
    "if evalFlag:\n",
    "    p_thd = 10**(-32)\n",
    "    delta_t = 12+1 # how many future time slots to be predicted\n",
    "    predictProgProb = [{} for i in xrange(delta_t-1)]\n",
    "else:\n",
    "    delta_t = 0\n",
    "    p_thd = 0.01\n",
    "\n",
    "if not evalFlag:\n",
    "    outDir = os.path.join(ProcDataDir, '%d_prog' % testDay)\n",
    "    if os.path.exists(outDir):\n",
    "        shutil.rmtree(outDir)\n",
    "    os.mkdir(outDir)\n",
    "\n",
    "for testDay in testDays:\n",
    "    f = '%s/%s2014_11_%d' % (d, 'noUTurn' if noUTurn else '', testDay)\n",
    "    testCongState = np.genfromtxt(f, delimiter=',') # allSelectedRids X tSlot\n",
    "    testCongState = testCongState[selectedRids_index, :]\n",
    "    # set up parameters to make prediction for each day\n",
    "    nTSlots = testCongState.shape[1]\n",
    "    tMax = nTSlots - 1 if delta_t > 0 else nTSlots-delta_t-1 \n",
    "    for t in xrange(tMax):\n",
    "        # get current congested segments\n",
    "        congRids = selectedRids[testCongState[:,t]==1]\n",
    "        # set up evaluation parameters\n",
    "        if delta_t == 0:\n",
    "            t_thd = nTSlots-1\n",
    "        else:\n",
    "            if t + delta_t >= nTSlots - 1:\n",
    "                t_thd = nTSlots - 1\n",
    "            else:\n",
    "                t_thd = t + delta_t\n",
    "        # find connected congested sets, and roots and leaves\n",
    "        CCSs = getConnCongSet(congRids, linkRoads, roads)\n",
    "        # Naive solution\n",
    "        roots_CCSs, paths_CCSs, visited_CCSs, rank_CCSs  = [], [], [], []\n",
    "        for CCS in CCSs:\n",
    "            roots, allPaths, allVisited = [], [], set()\n",
    "            for congRid in CCS:\n",
    "                # starting a BFS search from a given congested segment and compute the score for all segments\n",
    "                isRoot = True\n",
    "                for preRid in roads[congRid].preRids:\n",
    "                    if preRid not in CCS:\n",
    "                        isRoot = False\n",
    "                progIndex = index_data_congProg[getCongIndexPos(testDay, t, tb_wd)]\n",
    "                if isRoot:\n",
    "                    roots.append(congRid)\n",
    "                else:\n",
    "                    paths, path_prob, ext_flags = [[congRid]], [1.0], [True]\n",
    "                    maxTF = t+1\n",
    "                    visitedRids = set([congRid]) # for preventing cycling propagation\n",
    "                    while (np.any(ext_flags) and maxTF < t_thd):\n",
    "                        progIndex = index_data_congProg[getCongIndexPos(testDay, maxTF-1, tb_wd)]\n",
    "                        new_paths, new_path_prob, new_ext_flags = [], [], []\n",
    "                        for m in xrange(len(paths)):\n",
    "                            updated = False\n",
    "                            if ext_flags[m]:\n",
    "                                cl_rid, p = paths[m][-1], path_prob[m]\n",
    "                                for pre_cl_rid in roads[cl_rid].preRids:\n",
    "                                    if (pre_cl_rid not in visitedRids) and (pre_cl_rid not in CCS):\n",
    "                                        new_p = p * progIndex[cl_rid][pre_cl_rid]\n",
    "                                        if (p_thd > 0 and new_p >= p_thd) or (p_thd == 0):\n",
    "                                            subPath = copy.copy(paths[m])\n",
    "                                            subPath.append(pre_cl_rid)\n",
    "                                            new_paths.append(subPath)\n",
    "                                            new_path_prob.append(new_p)\n",
    "                                            new_ext_flags.append(True)\n",
    "                                            updated = True\n",
    "                                            if evalFlag:\n",
    "                                                tDist, cpEntry = maxTF-(t+1), (cl_rid, pre_cl_rid, maxTF-1, testDay)\n",
    "                                                if cpEntry in predictProgProb[tDist]:\n",
    "                                                    if new_p > predictProgProb[tDist][cpEntry][0]:\n",
    "                                                        # predictProgProb:\n",
    "                                                        # tDist: time slot distance to current given time\n",
    "                                                        # cpEntry: entry containing elements describing a propagation\n",
    "                                                        # recording the largest probability of propagation\n",
    "                                                        # and true propagation label\n",
    "                                                        predictProgProb[tDist][cpEntry][0] = new_p\n",
    "                                                else:\n",
    "                                                    trueProg = checkProg(cl_rid, pre_cl_rid, maxTF-1, testCongState, rid_index)\n",
    "                                                    predictProgProb[tDist][cpEntry] = [new_p, trueProg]\n",
    "                            # if the path is not extended, keep it for final result and mark as unextendable\n",
    "                            if not updated:\n",
    "                                new_paths.append(paths[m])\n",
    "                                new_path_prob.append(path_prob[m])\n",
    "                                new_ext_flags.append(False)\n",
    "                        paths, path_prob, ext_flags = new_paths, new_path_prob, new_ext_flags\n",
    "                        visitedRids |= set([pa[-1] for pa in paths])\n",
    "                        maxTF += 1\n",
    "                    maxTF -= 1\n",
    "                    allVisited |= visitedRids\n",
    "                    allPaths.append(paths)\n",
    "            roots_CCSs.append(roots)\n",
    "            paths_CCSs.append(allPaths)\n",
    "            visited_CCSs.append(allVisited)\n",
    "        # rank the propagation pattern of each connected congested segments by impact length and output top-10\n",
    "        if not evalFlag:\n",
    "            for j in xrange(len(visited_CCSs)):\n",
    "                impactedRids = visited_CCSs[j] - CCSs[j]\n",
    "                score = sum([roads[rid].length for rid in impactedRids])\n",
    "                rank_CCSs.append(score)\n",
    "            topK = sorted([j for j in xrange(len(rank_CCSs))], key=lambda x: rank_CCSs[x], reverse=True)[:10]\n",
    "            with open(os.path.join(outDir, 't%d_congProg' % t), 'w') as wrt:\n",
    "                s = ''\n",
    "                for k in topK:\n",
    "                    s += '%s;' % (','.join(str(rid) for rid in roots_CCSs[k]))\n",
    "                    s += '%s;' % (','.join(str(rid) for rid in (CCSs[k] - set(roots_CCSs[k]))))\n",
    "                    s += ','.join(' '.join('_'.join(str(rid) for rid in pa) for pa in paths) for paths in paths_CCSs[k])\n",
    "                    s += '\\n'\n",
    "                wrt.write(s)\n",
    "        if t > 0 and t % 20 == 0:\n",
    "            print 'runtime: day %d, t%d, %s' % (testDay, t, runtime(gct(), st))\n",
    "    print 'runtime: day %d %s' % (testDay, runtime(gct(), st))"
   ]
  },
  {
   "cell_type": "markdown",
   "metadata": {},
   "source": [
    "# output probability and true label for evaluation"
   ]
  },
  {
   "cell_type": "code",
   "execution_count": 10,
   "metadata": {},
   "outputs": [
    {
     "name": "stdout",
     "output_type": "stream",
     "text": [
      "Done\n"
     ]
    }
   ],
   "source": [
    "st = gct()\n",
    "pk.dump(predictProgProb, open(os.path.join(ProcDataDir, 'pred'),'wb'))\n",
    "print 'Runtime: %s' % (gct()-st)"
   ]
  }
 ],
 "metadata": {
  "kernelspec": {
   "display_name": "Python 2",
   "language": "python",
   "name": "python2"
  },
  "language_info": {
   "codemirror_mode": {
    "name": "ipython",
    "version": 2
   },
   "file_extension": ".py",
   "mimetype": "text/x-python",
   "name": "python",
   "nbconvert_exporter": "python",
   "pygments_lexer": "ipython2",
   "version": "2.7.15"
  }
 },
 "nbformat": 4,
 "nbformat_minor": 2
}
